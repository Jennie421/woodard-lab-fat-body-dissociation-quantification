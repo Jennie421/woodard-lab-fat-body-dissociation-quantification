{
 "cells": [
  {
   "cell_type": "code",
   "execution_count": 44,
   "metadata": {},
   "outputs": [],
   "source": [
    "import pandas as pd\n",
    "import os\n",
    "import datetime\n"
   ]
  },
  {
   "cell_type": "markdown",
   "metadata": {},
   "source": [
    "## Area Calculation"
   ]
  },
  {
   "cell_type": "code",
   "execution_count": 45,
   "metadata": {},
   "outputs": [],
   "source": [
    "def area_cal(name: str):\n",
    "    # E.g. wt_25c_0905_1755_20220207\n",
    "    \n",
    "    df = pd.read_csv(name)\n",
    "    total = sum(df['Area'])\n",
    "\n",
    "    dissociated = sum(x for x in df[\"Area\"] if x < 10000) \n",
    "    percent_dissociation = dissociated/total * 100\n",
    "    result = round(percent_dissociation, 2) # round up  \n",
    "\n",
    "    return result\n"
   ]
  },
  {
   "cell_type": "markdown",
   "metadata": {},
   "source": [
    "## Time Calculation"
   ]
  },
  {
   "cell_type": "code",
   "execution_count": 46,
   "metadata": {},
   "outputs": [],
   "source": [
    "def time_cal (s):\n",
    "    s = s.split('_')\n",
    "    date = s[4]\n",
    "    start = s[2]\n",
    "    end = s[3]\n",
    "\n",
    "    start_time = [int(o) for o in [date[:4], date[4:6], date[6:], start[:2], start[2:]]]\n",
    "    start_date_obj = datetime.datetime(*start_time)\n",
    "    \n",
    "    end_time = [int(o) for o in [date[:4], date[4:6], date[6:], end[:2], end[2:]]]\n",
    "    end_date_obj = datetime.datetime(*end_time) \n",
    "\n",
    "    if end_date_obj < start_date_obj: \n",
    "        end_date_obj += datetime.timedelta(days=1)\n",
    "\n",
    "    duration = (end_date_obj - start_date_obj).total_seconds()/3600 # duration in hours \n",
    "\n",
    "    return duration\n"
   ]
  },
  {
   "cell_type": "markdown",
   "metadata": {},
   "source": [
    "## Main Script"
   ]
  },
  {
   "cell_type": "code",
   "execution_count": 47,
   "metadata": {},
   "outputs": [],
   "source": [
    "# Initialize a data set \n",
    "data = {'Genotype': [],\n",
    "        'Temp': [],\n",
    "        'APF': [],\n",
    "        'Dissociation': [],\n",
    "        'Original file': []}\n",
    "\n",
    "directory = \"all areas\"\n",
    "\n",
    "for file in os.listdir(directory):\n",
    "    if file.endswith(\".csv\"):\n",
    "        data['Dissociation'] += [area_cal(directory + '/' + file)]\n",
    "        \n",
    "        filename = file.split(\"_\") # separate string into components \n",
    "        data['Genotype'] += [filename[0]]\n",
    "        data['Temp'] += [filename[1]]\n",
    "        data['APF'] += [time_cal(file.split('.')[0])] # calculate duration \n",
    "\n",
    "        data['Original file'] += [file] # add the original file name \n",
    "\n",
    "# Create DataFrame\n",
    "df = pd.DataFrame(data).sort_values(by=\"APF\")\n",
    "df.to_csv('summary.csv')\n"
   ]
  },
  {
   "cell_type": "code",
   "execution_count": 48,
   "metadata": {},
   "outputs": [],
   "source": [
    "Shi_df = df[df[\"Genotype\"]==\"Dilp5-Shi\"]\n",
    "TrpA1_df = df[df[\"Genotype\"]==\"Dilp5-TrpA1\"]\n",
    "WT_df = df[df[\"Genotype\"]==\"WT\"]"
   ]
  },
  {
   "cell_type": "markdown",
   "metadata": {},
   "source": [
    "## Plots and Correlation "
   ]
  },
  {
   "cell_type": "code",
   "execution_count": 49,
   "metadata": {},
   "outputs": [],
   "source": [
    "import seaborn as sns\n",
    "import matplotlib.pyplot as plt\n",
    "from scipy import stats"
   ]
  },
  {
   "cell_type": "code",
   "execution_count": 50,
   "metadata": {},
   "outputs": [],
   "source": [
    "def plot(df, name, title): \n",
    "    correlation = df[\"APF\"].corr(df['Dissociation']).round(2)\n",
    "\n",
    "    # get coeffs of linear fit\n",
    "    slope, intercept, r_value, p_value, std_err = stats.linregress(df['APF'],df['Dissociation'])\n",
    "    lm_plot = sns.regplot( x=\"APF\", y=\"Dissociation\", data=df, line_kws={'label':\"y={0:.1f}x+{1:.1f}\".format(slope,intercept)} )\n",
    "    lm_plot.legend(loc=\"upper left\") # plot legend\n",
    "    plt.axis([0,16,0,80])\n",
    "    plt.text(x=10, y=3, s=f\"r = {correlation}\")\n",
    "    plt.title(title)\n",
    "    plt.savefig(f\"Scatterplot_With_Regression_Fit_{name}.png\")\n",
    "    return lm_plot"
   ]
  },
  {
   "cell_type": "code",
   "execution_count": 51,
   "metadata": {},
   "outputs": [
    {
     "data": {
      "text/html": [
       "<div>\n",
       "<style scoped>\n",
       "    .dataframe tbody tr th:only-of-type {\n",
       "        vertical-align: middle;\n",
       "    }\n",
       "\n",
       "    .dataframe tbody tr th {\n",
       "        vertical-align: top;\n",
       "    }\n",
       "\n",
       "    .dataframe thead th {\n",
       "        text-align: right;\n",
       "    }\n",
       "</style>\n",
       "<table border=\"1\" class=\"dataframe\">\n",
       "  <thead>\n",
       "    <tr style=\"text-align: right;\">\n",
       "      <th></th>\n",
       "      <th>Genotype</th>\n",
       "      <th>Temp</th>\n",
       "      <th>APF</th>\n",
       "      <th>Dissociation</th>\n",
       "      <th>Original file</th>\n",
       "    </tr>\n",
       "  </thead>\n",
       "  <tbody>\n",
       "    <tr>\n",
       "      <th>42</th>\n",
       "      <td>Dilp5-Shi</td>\n",
       "      <td>30c</td>\n",
       "      <td>0.333333</td>\n",
       "      <td>5.86</td>\n",
       "      <td>Dilp5-Shi_30c_1100_1120_20220312.csv</td>\n",
       "    </tr>\n",
       "    <tr>\n",
       "      <th>17</th>\n",
       "      <td>Dilp5-Shi</td>\n",
       "      <td>30c</td>\n",
       "      <td>0.450000</td>\n",
       "      <td>6.45</td>\n",
       "      <td>Dilp5-Shi_30c_0838_0905_20220313.csv</td>\n",
       "    </tr>\n",
       "  </tbody>\n",
       "</table>\n",
       "</div>"
      ],
      "text/plain": [
       "     Genotype Temp       APF  Dissociation  \\\n",
       "42  Dilp5-Shi  30c  0.333333          5.86   \n",
       "17  Dilp5-Shi  30c  0.450000          6.45   \n",
       "\n",
       "                           Original file  \n",
       "42  Dilp5-Shi_30c_1100_1120_20220312.csv  \n",
       "17  Dilp5-Shi_30c_0838_0905_20220313.csv  "
      ]
     },
     "execution_count": 51,
     "metadata": {},
     "output_type": "execute_result"
    }
   ],
   "source": [
    "Shi_df.head(2)"
   ]
  },
  {
   "cell_type": "code",
   "execution_count": 52,
   "metadata": {},
   "outputs": [
    {
     "data": {
      "image/png": "[encoded data removed]",
      "text/plain": [
       "<Figure size 432x288 with 1 Axes>"
      ]
     },
     "metadata": {
      "needs_background": "light"
     },
     "output_type": "display_data"
    }
   ],
   "source": [
    "lm_plot = plot(Shi_df, \"Dilp5-Shi\", \"Dilp5-Shi (Suppressed)\")"
   ]
  },
  {
   "cell_type": "code",
   "execution_count": 53,
   "metadata": {},
   "outputs": [
    {
     "data": {
      "text/html": [
       "<div>\n",
       "<style scoped>\n",
       "    .dataframe tbody tr th:only-of-type {\n",
       "        vertical-align: middle;\n",
       "    }\n",
       "\n",
       "    .dataframe tbody tr th {\n",
       "        vertical-align: top;\n",
       "    }\n",
       "\n",
       "    .dataframe thead th {\n",
       "        text-align: right;\n",
       "    }\n",
       "</style>\n",
       "<table border=\"1\" class=\"dataframe\">\n",
       "  <thead>\n",
       "    <tr style=\"text-align: right;\">\n",
       "      <th></th>\n",
       "      <th>Genotype</th>\n",
       "      <th>Temp</th>\n",
       "      <th>APF</th>\n",
       "      <th>Dissociation</th>\n",
       "      <th>Original file</th>\n",
       "    </tr>\n",
       "  </thead>\n",
       "  <tbody>\n",
       "    <tr>\n",
       "      <th>58</th>\n",
       "      <td>Dilp5-TrpA1</td>\n",
       "      <td>30c</td>\n",
       "      <td>0.166667</td>\n",
       "      <td>3.56</td>\n",
       "      <td>Dilp5-TrpA1_30c_0925_0935_20220310.csv</td>\n",
       "    </tr>\n",
       "    <tr>\n",
       "      <th>41</th>\n",
       "      <td>Dilp5-TrpA1</td>\n",
       "      <td>30c</td>\n",
       "      <td>0.383333</td>\n",
       "      <td>7.64</td>\n",
       "      <td>Dilp5-TrpA1_30c_0855_0918_20220313.csv</td>\n",
       "    </tr>\n",
       "  </tbody>\n",
       "</table>\n",
       "</div>"
      ],
      "text/plain": [
       "       Genotype Temp       APF  Dissociation  \\\n",
       "58  Dilp5-TrpA1  30c  0.166667          3.56   \n",
       "41  Dilp5-TrpA1  30c  0.383333          7.64   \n",
       "\n",
       "                             Original file  \n",
       "58  Dilp5-TrpA1_30c_0925_0935_20220310.csv  \n",
       "41  Dilp5-TrpA1_30c_0855_0918_20220313.csv  "
      ]
     },
     "execution_count": 53,
     "metadata": {},
     "output_type": "execute_result"
    }
   ],
   "source": [
    "TrpA1_df.head(2)"
   ]
  },
  {
   "cell_type": "code",
   "execution_count": 54,
   "metadata": {},
   "outputs": [
    {
     "data": {
      "image/png": "[encoded data removed]",
      "text/plain": [
       "<Figure size 432x288 with 1 Axes>"
      ]
     },
     "metadata": {
      "needs_background": "light"
     },
     "output_type": "display_data"
    }
   ],
   "source": [
    "lm_plot = plot(TrpA1_df, \"Dilp5-TrpA1\", \"Dilp5-TrpA1 (Enhanced)\")"
   ]
  },
  {
   "cell_type": "code",
   "execution_count": 55,
   "metadata": {},
   "outputs": [
    {
     "data": {
      "text/html": [
       "<div>\n",
       "<style scoped>\n",
       "    .dataframe tbody tr th:only-of-type {\n",
       "        vertical-align: middle;\n",
       "    }\n",
       "\n",
       "    .dataframe tbody tr th {\n",
       "        vertical-align: top;\n",
       "    }\n",
       "\n",
       "    .dataframe thead th {\n",
       "        text-align: right;\n",
       "    }\n",
       "</style>\n",
       "<table border=\"1\" class=\"dataframe\">\n",
       "  <thead>\n",
       "    <tr style=\"text-align: right;\">\n",
       "      <th></th>\n",
       "      <th>Genotype</th>\n",
       "      <th>Temp</th>\n",
       "      <th>APF</th>\n",
       "      <th>Dissociation</th>\n",
       "      <th>Original file</th>\n",
       "    </tr>\n",
       "  </thead>\n",
       "  <tbody>\n",
       "    <tr>\n",
       "      <th>51</th>\n",
       "      <td>WT</td>\n",
       "      <td>30c</td>\n",
       "      <td>0.166667</td>\n",
       "      <td>2.10</td>\n",
       "      <td>WT_30c_1635_1645_20220413_1x.csv</td>\n",
       "    </tr>\n",
       "    <tr>\n",
       "      <th>29</th>\n",
       "      <td>WT</td>\n",
       "      <td>30c</td>\n",
       "      <td>0.300000</td>\n",
       "      <td>1.44</td>\n",
       "      <td>WT_30c_1108_1126_20220312.csv</td>\n",
       "    </tr>\n",
       "  </tbody>\n",
       "</table>\n",
       "</div>"
      ],
      "text/plain": [
       "   Genotype Temp       APF  Dissociation                     Original file\n",
       "51       WT  30c  0.166667          2.10  WT_30c_1635_1645_20220413_1x.csv\n",
       "29       WT  30c  0.300000          1.44     WT_30c_1108_1126_20220312.csv"
      ]
     },
     "execution_count": 55,
     "metadata": {},
     "output_type": "execute_result"
    }
   ],
   "source": [
    "WT_df.head(2)"
   ]
  },
  {
   "cell_type": "code",
   "execution_count": 56,
   "metadata": {},
   "outputs": [
    {
     "data": {
      "image/png": "[encoded data removed]",
      "text/plain": [
       "<Figure size 432x288 with 1 Axes>"
      ]
     },
     "metadata": {
      "needs_background": "light"
     },
     "output_type": "display_data"
    }
   ],
   "source": [
    "lm_plot = plot(WT_df, \"WT\", \"Control\")"
   ]
  }
 ],
 "metadata": {
  "interpreter": {
   "hash": "aee8b7b246df8f9039afb4144a1f6fd8d2ca17a180786b69acc140d282b71a49"
  },
  "kernelspec": {
   "display_name": "Python 3.7.4 64-bit",
   "language": "python",
   "name": "python3"
  },
  "language_info": {
   "codemirror_mode": {
    "name": "ipython",
    "version": 3
   },
   "file_extension": ".py",
   "mimetype": "text/x-python",
   "name": "python",
   "nbconvert_exporter": "python",
   "pygments_lexer": "ipython3",
   "version": "3.7.4"
  },
  "orig_nbformat": 4
 },
 "nbformat": 4,
 "nbformat_minor": 2
}
